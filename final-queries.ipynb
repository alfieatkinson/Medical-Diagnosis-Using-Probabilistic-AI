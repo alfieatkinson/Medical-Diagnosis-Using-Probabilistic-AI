{
 "cells": [
  {
   "cell_type": "code",
   "execution_count": 1,
   "metadata": {},
   "outputs": [],
   "source": [
    "import warnings\n",
    "import logging\n",
    "import pandas as pd \n",
    "import bnlearn as bn\n",
    "from pgmpy.global_vars import logger\n",
    "from utils import * # Helper functions"
   ]
  },
  {
   "cell_type": "code",
   "execution_count": 2,
   "metadata": {},
   "outputs": [],
   "source": [
    "warnings.filterwarnings('ignore')\n",
    "logger.setLevel(logging.ERROR)\n",
    "logging.getLogger('pandas').setLevel(logging.ERROR)"
   ]
  },
  {
   "cell_type": "markdown",
   "metadata": {},
   "source": [
    "# Dementia Queries\n",
    "---"
   ]
  },
  {
   "cell_type": "code",
   "execution_count": 3,
   "metadata": {},
   "outputs": [],
   "source": [
    "dementia_df = pd.read_csv('data/dementia_data_processed.csv')"
   ]
  },
  {
   "cell_type": "code",
   "execution_count": 4,
   "metadata": {},
   "outputs": [],
   "source": [
    "discrete_dementia_df = discretise(dementia_df.copy(), method='freedman-diaconis')"
   ]
  },
  {
   "cell_type": "markdown",
   "metadata": {},
   "source": [
    "## Training\n",
    "---"
   ]
  },
  {
   "cell_type": "markdown",
   "metadata": {},
   "source": [
    "### Structure Learning\n",
    "---"
   ]
  },
  {
   "cell_type": "code",
   "execution_count": null,
   "metadata": {},
   "outputs": [],
   "source": [
    "dementia_structure = bn.structure_learning.fit(discrete_dementia_df, methodtype='tan', class_node='Group')"
   ]
  },
  {
   "cell_type": "markdown",
   "metadata": {},
   "source": [
    "### Parameter Learning\n",
    "---"
   ]
  },
  {
   "cell_type": "code",
   "execution_count": null,
   "metadata": {},
   "outputs": [],
   "source": [
    "dementia_model = bn.parameter_learning.fit(dementia_structure, discrete_dementia_df, methodtype='bayes')"
   ]
  },
  {
   "cell_type": "markdown",
   "metadata": {},
   "source": [
    "## Inference\n",
    "---"
   ]
  },
  {
   "cell_type": "code",
   "execution_count": 7,
   "metadata": {},
   "outputs": [],
   "source": [
    "query_1 = {\n",
    "    'Visit': 2, \n",
    "    'Age': 88,\n",
    "    'EDUC': 14, \n",
    "    'SES': 2, \n",
    "    'MMSE': 30, \n",
    "    'CDR': 0, \n",
    "    'eTIV': 2004, \n",
    "    'nWBV': 0.681, \n",
    "    'ASF': 0.876\n",
    "}\n",
    "\n",
    "query_2 = {\n",
    "    'Visit': 3, \n",
    "    'Age': 80,\n",
    "    'EDUC': 12, \n",
    "    'MMSE': 22, \n",
    "    'CDR': 0.5, \n",
    "    'eTIV': 1698, \n",
    "    'nWBV': 0.701, \n",
    "    'ASF': 1.034\n",
    "}"
   ]
  },
  {
   "cell_type": "code",
   "execution_count": 8,
   "metadata": {},
   "outputs": [],
   "source": [
    "query_1 = discretise_query(query_1, dementia_df, method='freedman-diaconis')\n",
    "query_2 = discretise_query(query_2, dementia_df, method='freedman-diaconis')"
   ]
  },
  {
   "cell_type": "code",
   "execution_count": 9,
   "metadata": {},
   "outputs": [],
   "source": [
    "query_1 = pd.DataFrame([query_1])\n",
    "query_2 = pd.DataFrame([query_2])"
   ]
  },
  {
   "cell_type": "markdown",
   "metadata": {},
   "source": [
    "### Query 1\n",
    "---"
   ]
  },
  {
   "cell_type": "code",
   "execution_count": null,
   "metadata": {},
   "outputs": [],
   "source": [
    "prediction = bn.predict(dementia_model, query_1, 'Group')"
   ]
  },
  {
   "cell_type": "code",
   "execution_count": 11,
   "metadata": {},
   "outputs": [],
   "source": [
    "prob_dementia = prediction.loc[0, 'p']\n",
    "prob_no_dementia = 1 - prob_dementia"
   ]
  },
  {
   "cell_type": "code",
   "execution_count": null,
   "metadata": {},
   "outputs": [],
   "source": [
    "print(f\"Probability of Dementia: {prob_dementia:.6f} (or {prob_dementia * 100:.2f}%)\")\n",
    "print(f\"Probability of no Dementia: {prob_no_dementia:.6f} (or {prob_no_dementia * 100:.2f}%)\")"
   ]
  },
  {
   "cell_type": "markdown",
   "metadata": {},
   "source": [
    "### Query 2\n",
    "---"
   ]
  },
  {
   "cell_type": "code",
   "execution_count": null,
   "metadata": {},
   "outputs": [],
   "source": [
    "prediction = bn.predict(dementia_model, query_2, 'Group')"
   ]
  },
  {
   "cell_type": "code",
   "execution_count": 14,
   "metadata": {},
   "outputs": [],
   "source": [
    "prob_dementia = prediction.loc[0, 'p']\n",
    "prob_no_dementia = 1 - prob_dementia"
   ]
  },
  {
   "cell_type": "code",
   "execution_count": null,
   "metadata": {},
   "outputs": [],
   "source": [
    "print(f\"Probability of Dementia: {prob_dementia:.6f} (or {prob_dementia * 100:.2f}%)\")\n",
    "print(f\"Probability of no Dementia: {prob_no_dementia:.6f} (or {prob_no_dementia * 100:.2f}%)\")"
   ]
  },
  {
   "cell_type": "markdown",
   "metadata": {},
   "source": [
    "# Parkinson's Disease Queries\n",
    "---"
   ]
  },
  {
   "cell_type": "code",
   "execution_count": 16,
   "metadata": {},
   "outputs": [],
   "source": [
    "parkinsons_df = pd.read_csv('data/parkinsons_data_processed.csv')"
   ]
  },
  {
   "cell_type": "code",
   "execution_count": 17,
   "metadata": {},
   "outputs": [],
   "source": [
    "discrete_parkinsons_df = discretise(parkinsons_df.copy(), method='freedman-diaconis')"
   ]
  },
  {
   "cell_type": "markdown",
   "metadata": {},
   "source": [
    "## Training\n",
    "---"
   ]
  },
  {
   "cell_type": "markdown",
   "metadata": {},
   "source": [
    "### Structure Learning\n",
    "---"
   ]
  },
  {
   "cell_type": "code",
   "execution_count": null,
   "metadata": {},
   "outputs": [],
   "source": [
    "parkinsons_structure = bn.structure_learning.fit(discrete_parkinsons_df, methodtype='tan', class_node='Status')"
   ]
  },
  {
   "cell_type": "markdown",
   "metadata": {},
   "source": [
    "### Parameter Learning\n",
    "---"
   ]
  },
  {
   "cell_type": "code",
   "execution_count": null,
   "metadata": {},
   "outputs": [],
   "source": [
    "parkinsons_model = bn.parameter_learning.fit(parkinsons_structure, discrete_parkinsons_df, methodtype='bayes')"
   ]
  },
  {
   "cell_type": "markdown",
   "metadata": {},
   "source": [
    "## Inference\n",
    "---"
   ]
  },
  {
   "cell_type": "code",
   "execution_count": 20,
   "metadata": {},
   "outputs": [],
   "source": [
    "query_3 = {\n",
    "    'MDVP:Fo(Hz)': 197.076,\n",
    "    'MDVP:Fhi(Hz)': 206.896,\n",
    "    'MDVP:Flo(Hz)': 192.055,\n",
    "    'MDVP:Jitter(%)': 0.00289,\n",
    "    'MDVP:Jitter(Abs)': 0.00001,\n",
    "    'MDVP:RAP': 0.00166,\n",
    "    'MDVP:PPQ': 0.00168,\n",
    "    'Jitter:DDP': 0.00498,\n",
    "    'MDVP:Shimmer': 0.01098,\n",
    "    'MDVP:Shimmer(dB)': 0.097,\n",
    "    'Shimmer:APQ3': 0.00563,\n",
    "    'Shimmer:APQ5': 0.0068,\n",
    "    'MDVP:APQ': 0.00802,\n",
    "    'Shimmer:DDA': 0.01689,\n",
    "    'NHR': 0.00339,\n",
    "    'HNR': 26.775\n",
    "}\n",
    "\n",
    "query_4 = {\n",
    "    'MDVP:Fo(Hz)': 162.568,\n",
    "    'MDVP:Fhi(Hz)': 198.346,\n",
    "    'MDVP:Flo(Hz)': 77.63,\n",
    "    'MDVP:Jitter(%)': 0.00502,\n",
    "    'MDVP:Jitter(Abs)': 0.00003,\n",
    "    'MDVP:RAP': 0.0028,\n",
    "    'MDVP:PPQ': 0.00253,\n",
    "    'Jitter:DDP': 0.00841,\n",
    "    'MDVP:Shimmer': 0.01791,\n",
    "    'MDVP:Shimmer(dB)': 0.168,\n",
    "    'Shimmer:APQ3': 0.00793,\n",
    "    'Shimmer:APQ5': 0.01057,\n",
    "    'MDVP:APQ': 0.01799,\n",
    "    'Shimmer:DDA': 0.0238,\n",
    "    'NHR': 0.0117,\n",
    "    'HNR': 25.678\n",
    "}"
   ]
  },
  {
   "cell_type": "code",
   "execution_count": 21,
   "metadata": {},
   "outputs": [],
   "source": [
    "query_3 = discretise_query(query_3, parkinsons_df, method='freedman-diaconis')\n",
    "query_4 = discretise_query(query_4, parkinsons_df, method='freedman-diaconis')"
   ]
  },
  {
   "cell_type": "code",
   "execution_count": 22,
   "metadata": {},
   "outputs": [],
   "source": [
    "query_3 = pd.DataFrame([query_3])\n",
    "query_4 = pd.DataFrame([query_4])"
   ]
  },
  {
   "cell_type": "markdown",
   "metadata": {},
   "source": [
    "### Query 3\n",
    "---"
   ]
  },
  {
   "cell_type": "code",
   "execution_count": null,
   "metadata": {},
   "outputs": [],
   "source": [
    "prediction = bn.predict(parkinsons_model, query_3, 'Status')"
   ]
  },
  {
   "cell_type": "code",
   "execution_count": 24,
   "metadata": {},
   "outputs": [],
   "source": [
    "prob_parkinsons = prediction.loc[0, 'p']\n",
    "prob_no_parkinsons = 1 - prob_parkinsons"
   ]
  },
  {
   "cell_type": "code",
   "execution_count": null,
   "metadata": {},
   "outputs": [],
   "source": [
    "print(f\"Probability of Parkinson's Disease: {prob_parkinsons:.6f} (or {prob_parkinsons * 100:.2f}%)\")\n",
    "print(f\"Probability of no Parkinson's Disease: {prob_no_parkinsons:.6f} (or {prob_no_parkinsons * 100:.2f}%)\")"
   ]
  },
  {
   "cell_type": "markdown",
   "metadata": {},
   "source": [
    "### Query 4\n",
    "---"
   ]
  },
  {
   "cell_type": "code",
   "execution_count": null,
   "metadata": {},
   "outputs": [],
   "source": [
    "prediction = bn.predict(parkinsons_model, query_4, 'Status')"
   ]
  },
  {
   "cell_type": "code",
   "execution_count": 27,
   "metadata": {},
   "outputs": [],
   "source": [
    "prob_parkinsons = prediction.loc[0, 'p']\n",
    "prob_no_parkinsons = 1 - prob_parkinsons"
   ]
  },
  {
   "cell_type": "code",
   "execution_count": null,
   "metadata": {},
   "outputs": [],
   "source": [
    "print(f\"Probability of Parkinson's Disease: {prob_parkinsons:.6f} (or {prob_parkinsons * 100:.2f}%)\")\n",
    "print(f\"Probability of no Parkinson's Disease: {prob_no_parkinsons:.6f} (or {prob_no_parkinsons * 100:.2f}%)\")"
   ]
  }
 ],
 "metadata": {
  "kernelspec": {
   "display_name": ".venv",
   "language": "python",
   "name": "python3"
  },
  "language_info": {
   "codemirror_mode": {
    "name": "ipython",
    "version": 3
   },
   "file_extension": ".py",
   "mimetype": "text/x-python",
   "name": "python",
   "nbconvert_exporter": "python",
   "pygments_lexer": "ipython3",
   "version": "3.12.7"
  }
 },
 "nbformat": 4,
 "nbformat_minor": 2
}
